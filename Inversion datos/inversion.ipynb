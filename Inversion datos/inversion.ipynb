


from aleatorio import Conmix
import numpy as np

def datos(N,x,px):
    
    X = []
    u =  Conmix(N)    
    Probx = np.cumsum(px)    
    print u
    print "*******************************************************************************************************************"
    for inicio in range(N):
        for i in range (1,len(Probx)):
           
            if(u[inicio]<Probx[0] ):
                X.append(x[0])
                break
                
            if(u[inicio]<Probx[i] and u[inicio]>=Probx[i-1]  ):                
                X.append(x[i-1])
                break
            
                
    return X


x = np.arange(1,7)
px = np.ones(6)*(float(1)/int(6))    
N=1000
print datos(N,x,px)