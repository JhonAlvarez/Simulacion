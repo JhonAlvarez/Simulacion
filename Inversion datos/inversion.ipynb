{
 "cells": [
  {
   "cell_type": "code",
   "execution_count": 2,
   "metadata": {
    "collapsed": false
   },
   "outputs": [],
   "source": [
    "from numAleatorio import Conmix\n",
    "import numpy as np\n",
    "\n",
    "def dosdados(N,x,px):\n",
    "    \n",
    "    X = []\n",
    "    u =  Conmix(N)    \n",
    "    Probx = np.cumsum(px)    \n",
    "    print u\n",
    "    print \"*******************************************************************************************************************\"\n",
    "    for inicio in range(N):\n",
    "        for i in range (1,len(Probx)):\n",
    "           \n",
    "            if(u[inicio]<Probx[0] ):\n",
    "                X.append(x[0])\n",
    "                break\n",
    "                \n",
    "            if(u[inicio]<Probx[i] and u[inicio]>=Probx[i-1]  ):                \n",
    "                X.append(x[i-1])\n",
    "                break\n",
    "            \n",
    "                \n",
    "    return X\n",
    "\n",
    "\n",
    "x = np.arange(1,7)\n",
    "px = np.ones(6)*(float(1)/int(6))    \n",
    "N=1000\n",
    "print dosdados(N,x,px)"
   ]
  },
  {
   "cell_type": "code",
   "execution_count": null,
   "metadata": {
    "collapsed": true
   },
   "outputs": [],
   "source": []
  }
 ],
 "metadata": {
  "anaconda-cloud": {},
  "kernelspec": {
   "display_name": "Python [Root]",
   "language": "python",
   "name": "Python [Root]"
  },
  "language_info": {
   "codemirror_mode": {
    "name": "ipython",
    "version": 3
   },
   "file_extension": ".py",
   "mimetype": "text/x-python",
   "name": "python",
   "nbconvert_exporter": "python",
   "pygments_lexer": "ipython3",
   "version": "3.5.2"
  }
 },
 "nbformat": 4,
 "nbformat_minor": 0
}
