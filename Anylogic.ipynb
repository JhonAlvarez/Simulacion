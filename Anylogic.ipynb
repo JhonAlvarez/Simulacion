{
 "cells": [
  {
   "cell_type": "markdown",
   "metadata": {},
   "source": [
    "# Tutorial SIMPY\n",
    "\n",
    "En el tutorial de simpy que se encuentra en la página http://simpy.readthedocs.io/en/latest/simpy_intro/basic_concepts.html encontramos un ejemplo sencillo del tiempo que toma un automovil en estacionar y el tiempo que toma el mismo automovil en ser conducido."
   ]
  },
  {
   "cell_type": "code",
   "execution_count": 1,
   "metadata": {
    "collapsed": false
   },
   "outputs": [
    {
     "name": "stdout",
     "output_type": "stream",
     "text": [
      "Inicia estacionamiento en 0\n",
      "Inicia conduccion en 5\n",
      "Inicia estacionamiento en 7\n",
      "Inicia conduccion en 12\n",
      "Inicia estacionamiento en 14\n"
     ]
    }
   ],
   "source": [
    "import simpy\n",
    "def car(env):\n",
    "    while True:\n",
    "        print('Inicia estacionamiento en %d' % env.now)\n",
    "        parking_duration = 5\n",
    "        yield env.timeout(parking_duration)\n",
    "        print('Inicia conduccion en %d' % env.now)\n",
    "        trip_duration = 2\n",
    "        yield env.timeout(trip_duration)\n",
    "env = simpy.Environment()\n",
    "env.process(car(env))\n",
    "env.run(until=15)"
   ]
  },
  {
   "cell_type": "markdown",
   "metadata": {},
   "source": [
    "Mas adelante aparece una nueva versión del código con una serie de modificaciones, Car es una clase que se agrega que representa como tal el vehiculo que inicia la acción, tambien se ve la implementación de cola de ejecución de los eventos de los vehículos que se generan."
   ]
  },
  {
   "cell_type": "code",
   "execution_count": 3,
   "metadata": {
    "collapsed": false
   },
   "outputs": [
    {
     "name": "stdout",
     "output_type": "stream",
     "text": [
      "Inicia estacionamiento en 0\n",
      "Comienza conduccion en 5\n",
      "Inicia estacionamiento en 7\n",
      "Comienza conduccion en 12\n",
      "Inicia estacionamiento en 14\n"
     ]
    }
   ],
   "source": [
    "class Car(object):\n",
    "    def __init__(self, env):\n",
    "        self.env = env\n",
    "        self.action = env.process(self.run())        \n",
    "    def run(self):\n",
    "        while True:\n",
    "            print('Inicia estacionamiento en %d' % self.env.now)\n",
    "            charge_duration = 5\n",
    "            yield self.env.process(self.charge(charge_duration))\n",
    "            print('Comienza conduccion en %d' % self.env.now)\n",
    "            trip_duration = 2\n",
    "            yield self.env.timeout(trip_duration)\n",
    "    def charge(self, duration):\n",
    "        yield self.env.timeout(duration)\n",
    "env = simpy.Environment()\n",
    "car = Car(env)\n",
    "env.run(until=15)        "
   ]
  },
  {
   "cell_type": "markdown",
   "metadata": {},
   "source": [
    "Para la tercera y última parte del tutorial vemos que se agrega una función llamada driver, tambien la implementación del tiempo de carga de la batería del vehículo y como afecta el funcionamiento de la cola cuando un vehiculo presenta este tipo de fallos."
   ]
  },
  {
   "cell_type": "code",
   "execution_count": 4,
   "metadata": {
    "collapsed": false
   },
   "outputs": [
    {
     "name": "stdout",
     "output_type": "stream",
     "text": [
      "Inicia estacionamiento en 0\n",
      "Alto. Bateria incompleta\n",
      "Inicia conduccion en 3\n",
      "Inicia estacionamiento en 5\n",
      "Inicia conduccion en 10\n",
      "Inicia estacionamiento en 12\n"
     ]
    }
   ],
   "source": [
    "def driver(env, car):\n",
    "    yield env.timeout(3)\n",
    "    car.action.interrupt()\n",
    "class Car1(object):\n",
    "    def __init__(self, env):\n",
    "        self.env = env\n",
    "        self.action = env.process(self.run())\n",
    "    def run(self):\n",
    "        while True:\n",
    "            print('Inicia estacionamiento en %d' % self.env.now)\n",
    "            charge_duration = 5\n",
    "            try:\n",
    "                yield self.env.process(self.charge(charge_duration))\n",
    "            except simpy.Interrupt:\n",
    "                print('Alto. Bateria incompleta')\n",
    "\n",
    "            print('Inicia conduccion en %d' % self.env.now)\n",
    "            trip_duration = 2\n",
    "            yield self.env.timeout(trip_duration)\n",
    "    def charge(self, duration):\n",
    "        yield self.env.timeout(duration)\n",
    "env = simpy.Environment()\n",
    "car = Car1(env)\n",
    "env.process(driver(env, car))\n",
    "env.run(until=15)"
   ]
  },
  {
   "cell_type": "code",
   "execution_count": null,
   "metadata": {
    "collapsed": true
   },
   "outputs": [],
   "source": []
  }
 ],
 "metadata": {
  "kernelspec": {
   "display_name": "Python [Root]",
   "language": "python",
   "name": "Python [Root]"
  },
  "language_info": {
   "codemirror_mode": {
    "name": "ipython",
    "version": 2
   },
   "file_extension": ".py",
   "mimetype": "text/x-python",
   "name": "python",
   "nbconvert_exporter": "python",
   "pygments_lexer": "ipython2",
   "version": "2.7.12"
  }
 },
 "nbformat": 4,
 "nbformat_minor": 0
}
