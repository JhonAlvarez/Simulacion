{
 "cells": [
  {
   "cell_type": "code",
   "execution_count": null,
   "metadata": {
    "collapsed": true
   },
   "outputs": [],
   "source": [
    "import numpy as np\n",
    "import matplotlib.pyplot as plt\n",
    "import math\n",
    "def congruencial(a,b,m,x0,n):\n",
    "    xn=0.0\n",
    "    un=0.0\n",
    "    list = []\n",
    "    for i in range(0,n):\n",
    "        xn=(a*x0 + b)%m\n",
    "        un=xn/float(m)\n",
    "        #print un\n",
    "        list.insert(i,un)\n",
    "        x0=xn\n",
    "    return list\n",
    "a= input('Digite el parametro a:')\n",
    "b= input('Digite el parametro b:')\n",
    "m= input('Digite el parametro m:')\n",
    "x0= input('Digite la semilla:')\n",
    "muestra= input('Los valores a generar:')\n",
    "congruencial(a,b,m,x0,muestra)"
   ]
  },
  {
   "cell_type": "code",
   "execution_count": null,
   "metadata": {
    "collapsed": true
   },
   "outputs": [],
   "source": []
  }
 ],
 "metadata": {
  "kernelspec": {
   "display_name": "Python [Root]",
   "language": "python",
   "name": "Python [Root]"
  },
  "language_info": {
   "codemirror_mode": {
    "name": "ipython",
    "version": 2
   },
   "file_extension": ".py",
   "mimetype": "text/x-python",
   "name": "python",
   "nbconvert_exporter": "python",
   "pygments_lexer": "ipython2",
   "version": "2.7.12"
  }
 },
 "nbformat": 4,
 "nbformat_minor": 0
}
