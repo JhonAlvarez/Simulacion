{
 "cells": [
  {
   "cell_type": "code",
   "execution_count": 4,
   "metadata": {
    "collapsed": false
   },
   "outputs": [],
   "source": [
    "import numpy as np\n",
    "import matplotlib.pyplot as plt\n",
    "import math\n",
    "def congruencialMixto(a,b,m,x0,datos):\n",
    "    i=0\n",
    "    Xn=0.0\n",
    "    Un=0.0\n",
    "    generador=[]\n",
    "    while i<datos:\n",
    "        Xn = ((a*x0)+b)%m\n",
    "        Un = Xn/float(m)\n",
    "        generador.append(Un)\n",
    "        x0=Xn\n",
    "        i+=1\n",
    "    return generador\n",
    "def inversion(n,x,px):\n",
    "    fda=[]\n",
    "    rel=0.0\n",
    "    fda.append(0)\n",
    "    generador=congruencialMixto(10,8,997,50,n) \n",
    "    for i in range(len(px)):\n",
    "        rel+=px[i]\n",
    "        fda.append(rel)\n",
    "    print 'variables aleatorias generadas'\n",
    "    for i in range(len(generador)):\n",
    "        for j in range(len(fda)-1):\n",
    "            if(generador[i]>fda[j] and generador[i]<=fda[j+1]):\n",
    "                print x[j]\n",
    "    print \"Valor x (variable aleatoria):\",x\n",
    "    print \"p(x):\",px\n",
    "    print \"P(X):\",fda\n",
    "    def main():\n",
    "     num=10\n",
    "     x=[]\n",
    "     prob=[]\n",
    "     for i in range(num):\n",
    "         val=input('Variable aleatoria ')\n",
    "         pr=input('probabilidad')\n",
    "         x.append(val)\n",
    "         prob.append(pr+0.0)\n",
    "     datos=input('Cantidad de variables aleatorias a generar')\n",
    "     inversion(datos,x,prob) \n"
   ]
  },
  {
   "cell_type": "code",
   "execution_count": null,
   "metadata": {
    "collapsed": true
   },
   "outputs": [],
   "source": []
  }
 ],
 "metadata": {
  "anaconda-cloud": {},
  "kernelspec": {
   "display_name": "Python [Root]",
   "language": "python",
   "name": "Python [Root]"
  },
  "language_info": {
   "codemirror_mode": {
    "name": "ipython",
    "version": 2
   },
   "file_extension": ".py",
   "mimetype": "text/x-python",
   "name": "python",
   "nbconvert_exporter": "python",
   "pygments_lexer": "ipython2",
   "version": "2.7.12"
  }
 },
 "nbformat": 4,
 "nbformat_minor": 0
}
