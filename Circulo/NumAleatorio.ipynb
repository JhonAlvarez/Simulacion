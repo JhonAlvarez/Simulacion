{
 "cells": [
  {
   "cell_type": "code",
   "execution_count": 1,
   "metadata": {
    "collapsed": false
   },
   "outputs": [
    {
     "ename": "SyntaxError",
     "evalue": "Missing parentheses in call to 'print' (<ipython-input-1-50f5fa658077>, line 23)",
     "output_type": "error",
     "traceback": [
      "\u001b[1;36m  File \u001b[1;32m\"<ipython-input-1-50f5fa658077>\"\u001b[1;36m, line \u001b[1;32m23\u001b[0m\n\u001b[1;33m    print \"error\"\u001b[0m\n\u001b[1;37m                ^\u001b[0m\n\u001b[1;31mSyntaxError\u001b[0m\u001b[1;31m:\u001b[0m Missing parentheses in call to 'print'\n"
     ]
    }
   ],
   "source": [
    "def MidSquare(semilla, numax=1):\n",
    "\n",
    "    numeros= []\n",
    "    semillautil = semilla\n",
    "    for iterator in range(numax):\n",
    "\n",
    "        if(len(semillautil)%2==0):\n",
    "\n",
    "            n = int(semillautil)\n",
    "            semilla2 = n**2\n",
    "            stringc =  str(semilla2)\n",
    "            if len(stringc)%2!=0:\n",
    "                stringc = \"0\"+ stringc\n",
    "\n",
    "\n",
    "            border = len(semillautil)/2\n",
    "\n",
    "            semillanueva = stringc[border:len(stringc)-border]            \n",
    "            output = \"0.\"+ semillanueva\n",
    "            numeros.append(float(output))\n",
    "            semillautil = semillanueva\n",
    "        else:\n",
    "            print \"error\"\n",
    "        \n",
    "\n",
    "    return numeros\n",
    "\n",
    "def Conmix(x0, numax=1):\n",
    "    numeros= []\n",
    "    Xn = int(x0)    \n",
    "    \n",
    "    a = 5\n",
    "    c = 7\n",
    "    m = 1277    \n",
    "    \n",
    "    for iterator in range(numax):        \n",
    "        Xn_1 = (a*Xn + c)% m\n",
    "        numeros.append(Xn_1)\n",
    "        Xn = Xn_1\n",
    "    return numeros"
   ]
  },
  {
   "cell_type": "code",
   "execution_count": null,
   "metadata": {
    "collapsed": true
   },
   "outputs": [],
   "source": []
  }
 ],
 "metadata": {
  "anaconda-cloud": {},
  "kernelspec": {
   "display_name": "Python [Root]",
   "language": "python",
   "name": "Python [Root]"
  },
  "language_info": {
   "codemirror_mode": {
    "name": "ipython",
    "version": 3
   },
   "file_extension": ".py",
   "mimetype": "text/x-python",
   "name": "python",
   "nbconvert_exporter": "python",
   "pygments_lexer": "ipython3",
   "version": "3.5.2"
  }
 },
 "nbformat": 4,
 "nbformat_minor": 0
}
