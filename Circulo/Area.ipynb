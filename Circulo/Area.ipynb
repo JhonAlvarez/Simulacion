{
 "cells": [
  {
   "cell_type": "code",
   "execution_count": 1,
   "metadata": {
    "collapsed": false
   },
   "outputs": [
    {
     "ename": "ImportError",
     "evalue": "No module named 'aleatorio'",
     "output_type": "error",
     "traceback": [
      "\u001b[1;31m---------------------------------------------------------------------------\u001b[0m",
      "\u001b[1;31mImportError\u001b[0m                               Traceback (most recent call last)",
      "\u001b[1;32m<ipython-input-1-840cf8a210d8>\u001b[0m in \u001b[0;36m<module>\u001b[1;34m()\u001b[0m\n\u001b[0;32m      1\u001b[0m \u001b[1;32mimport\u001b[0m \u001b[0mmatplotlib\u001b[0m\u001b[1;33m.\u001b[0m\u001b[0mpyplot\u001b[0m \u001b[1;32mas\u001b[0m \u001b[0mplt\u001b[0m\u001b[1;33m\u001b[0m\u001b[0m\n\u001b[0;32m      2\u001b[0m \u001b[1;32mimport\u001b[0m \u001b[0mnumpy\u001b[0m \u001b[1;32mas\u001b[0m \u001b[0mnp\u001b[0m\u001b[1;33m\u001b[0m\u001b[0m\n\u001b[1;32m----> 3\u001b[1;33m \u001b[1;32mfrom\u001b[0m \u001b[0maleatorio\u001b[0m \u001b[1;32mimport\u001b[0m \u001b[1;33m*\u001b[0m\u001b[1;33m\u001b[0m\u001b[0m\n\u001b[0m\u001b[0;32m      4\u001b[0m \u001b[1;33m\u001b[0m\u001b[0m\n\u001b[0;32m      5\u001b[0m \u001b[1;32mdef\u001b[0m \u001b[0mAreaCirculo\u001b[0m\u001b[1;33m(\u001b[0m\u001b[0mradio\u001b[0m\u001b[1;33m)\u001b[0m\u001b[1;33m:\u001b[0m\u001b[1;33m\u001b[0m\u001b[0m\n",
      "\u001b[1;31mImportError\u001b[0m: No module named 'aleatorio'"
     ]
    }
   ],
   "source": [
    "import matplotlib.pyplot as plt\n",
    "import numpy as np\n",
    "from aleatorio import *\n",
    "\n",
    "def AreaCirculo(radio):\n",
    "    return np.pi*radio\n",
    "\n",
    "radio=3\n",
    "muestras = 1000\n",
    "t=np.linspace(0,AreaCirculo(radio),100);\n",
    "x=radio*np.cos(t);\n",
    "y=radio*np.sin(t);\n",
    "\n",
    "plt.plot(x,y,'-',2);\n",
    "\n",
    "#Con el metodo MidSquare\n",
    "#w = MidSquare(\"23\",muestras)\n",
    "#z = MidSquare(\"15\",muestras)\n",
    "\n",
    "#Con el metodo Congruencial\n",
    "#w= Cm(205,muestras)\n",
    "#z = Cm(45,muestras)\n",
    "\n",
    "w= np.random.uniform(-radio, radio, size=1000)\n",
    "z= np.random.uniform(-radio, radio, size=1000)\n",
    "for i in range(muestras):\n",
    "    if np.sqrt(pow(w[i],2)+pow(z[i],2)) < radio:\n",
    "        plt.plot(w[i],z[i],'bo', alpha=.5)\n",
    "    else:\n",
    "        \n",
    "        plt.scatter(w[i],z[i], marker=\"o\",c='r')\n",
    "\n",
    "plt.show()"
   ]
  },
  {
   "cell_type": "code",
   "execution_count": null,
   "metadata": {
    "collapsed": true
   },
   "outputs": [],
   "source": []
  }
 ],
 "metadata": {
  "anaconda-cloud": {},
  "kernelspec": {
   "display_name": "Python [Root]",
   "language": "python",
   "name": "Python [Root]"
  },
  "language_info": {
   "codemirror_mode": {
    "name": "ipython",
    "version": 3
   },
   "file_extension": ".py",
   "mimetype": "text/x-python",
   "name": "python",
   "nbconvert_exporter": "python",
   "pygments_lexer": "ipython3",
   "version": "3.5.2"
  }
 },
 "nbformat": 4,
 "nbformat_minor": 0
}
