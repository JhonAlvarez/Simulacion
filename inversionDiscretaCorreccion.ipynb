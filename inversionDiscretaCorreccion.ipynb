import numpy as np
import matplotlib.pyplot as plt
import math
from matplotlib.pylab import hist, show
def congruencial(a,b,m,x0,n):
    xn=0.0
    un=0.0
    list = []
    for i in range(0,n):
        xn=(a*x0 + b)%m
        un=xn/float(m)
        #print un
        list.insert(i,un)
        x0=xn
    return list
def inversionDiscreta(n,met):
    metodo=congruencial(89.0,56.0,2147483647.0,24.0,n)
    funacu=[]
    x=[]
    px=[]
    temp=0.0
    funacu.append(0)
    if met==1:
        lamda=input('Valor de Lambda: ')
        for j in range(20):
            x.append(j)
            px.append(poisson(lamda,j)[j])
    else:
        if met==2:
            p=input('Valor de p: ')
            for j in range(2):
                x.append(j)
                px.append(bernoulli(p,2)[j])
        else:
            if met==3:
                p=input('Valor de p: ')
                for j in range(20):
                    x.append(j)
                    px.append(binomial(p,j)[j]) 
            else:
                print '---------------ERROR---------------'
    for i in range(len(px)):
        temp+=px[i]
        funacu.append(temp)
    print 'Resultado por inversión: '
    histo=[]
    for i in range(len(metodo)):
        for j in range(len(funacu)-1):
            if(metodo[i]>funacu[j] and metodo[i]<=funacu[j+1]):
                histo.append(x[j])
    plt.hist(histo)
    plt.show()
    print "Variable aleatoria x con valor:"
    print x
    print "Valor de p(x)"
    print px
    print "F.D.A P(X)"
    print funacu
    print "Valores aleatorios generador por el método congruencial"
    print metodo

    def poisson(lamda,k):
    arregloPos=[]
    for i in range(1000):
        val=(math.exp(-1*lamda)*(lamda**k)/math.factorial(k))+0.0
        arregloPos.append(val)
    return arregloPos
def bernoulli(p,muestras):
    arregloPos=[]
    for i in range(muestras):
        val=(p**i)*((1-p)**(1-i))
        arregloPos.append(val)
    return arregloPos
def binomial(p,k):
    arregloPos=[]
    for i in range(1000):
        comb=math.factorial(20)/math.factorial(k)*math.factorial(20-k)
        val=comb*math.pow(p,k)*math.pow(1-p,20-k)
        arregloPos.append(val)
    return arregloPos

    print('1. Para Generador de variables aleatorias discretas por Inversión Discreta')
tipoInv=input('Que tipo de generador de V.A desea?')

    if tipoInv==1:
        print('1. Poisson')
        print('2. Bernoulli')
        print('3. Binomial')
        metodoDis=input('Elija la distribucion: ')
        numDi=input('Cantidad a generar de números aleatorios: ')
        inversionDiscreta(numDi,metodoDis)
    else:
        print('---------------ERROR---------------')