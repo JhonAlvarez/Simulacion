{
 "cells": [
  {
   "cell_type": "markdown",
   "metadata": {},
   "source": [
    "# Taller 1 Lanzamiento de dos dados.\n",
    "\n",
    "Implementación del lanzamiento de dos datos (8 caras y 13 caras).\n",
    "Lo primero es generar las combinaciones y cantidad de repeticiones."
   ]
  },
  {
   "cell_type": "code",
   "execution_count": 7,
   "metadata": {
    "collapsed": false
   },
   "outputs": [],
   "source": [
    "import numpy as np\n",
    "import matplotlib.pyplot as plt\n",
    "%matplotlib inline  \n",
    "\n",
    "comb = np.zeros((8,13))\n",
    "for i in range(0,8):\n",
    "    for j in range(0,13):\n",
    "        comb[i][j] = (i+1)+(j+1)\n",
    "frec = np.zeros((3,20))\n",
    "for i in range(2,22):\n",
    "    frec[0][i-2]=i\n",
    "    for x in range(0,8):\n",
    "        for y in range(0,13):\n",
    "            if comb[x][y] == i:\n",
    "                frec[1][i-2]+=1\n",
    "    frec[2][i-2] = frec[1][i-2]/(8*13)"
   ]
  },
  {
   "cell_type": "markdown",
   "metadata": {},
   "source": [
    "# Media y varianza\n",
    "\n",
    "Procedemos a calcular la media con la formula\n",
    "\n",
    "$$m = \\sum_{i=0}^{n-1} \\frac{(x_{i}+f_{i})} {n}$$\n",
    "\n",
    "y la varianza con la formula\n",
    "\n",
    "$$v = \\sum_{i=0}^{n-1} \\frac{(m - x_{i})^{2} \\times f_{i}} {n}$$"
   ]
  },
  {
   "cell_type": "code",
   "execution_count": 8,
   "metadata": {
    "collapsed": false
   },
   "outputs": [
    {
     "name": "stdout",
     "output_type": "stream",
     "text": [
      "MEDIA:11.5\n",
      "VARIANZA19.25\n"
     ]
    },
    {
     "data": {
      "image/png": "[encoded data removed]",
      "text/plain": [
       "<matplotlib.figure.Figure at 0x7f6660540490>"
      ]
     },
     "metadata": {},
     "output_type": "display_data"
    }
   ],
   "source": [
    "m = 0\n",
    "for y in range(0,20):\n",
    "    m += (frec[0][y] * frec[1][y])/(8*13)\n",
    "print \"MEDIA:\"+str(m)\n",
    "v = 0\n",
    "for y in range(0,20):\n",
    "    v += (m - frec[0][y])**2 * frec[1][y]/(8*13)\n",
    "print \"VARIANZA\"+str(v)    \n",
    "\n",
    "plt.plot(range(2,22),frec[1])\n",
    "plt.title('Distribucion de probabilidad')\n",
    "plt.legend(loc=\"upper left\")\n",
    "plt.ylim(0.0, 10.0)\n",
    "plt.xlim(0.0, 22.0)\n",
    "\n",
    "plt.grid(True) \n",
    "plt.show()\n"
   ]
  },
  {
   "cell_type": "code",
   "execution_count": null,
   "metadata": {
    "collapsed": true
   },
   "outputs": [],
   "source": []
  },
  {
   "cell_type": "code",
   "execution_count": null,
   "metadata": {
    "collapsed": true
   },
   "outputs": [],
   "source": []
  }
 ],
 "metadata": {
  "kernelspec": {
   "display_name": "Python [Root]",
   "language": "python",
   "name": "Python [Root]"
  },
  "language_info": {
   "codemirror_mode": {
    "name": "ipython",
    "version": 2
   },
   "file_extension": ".py",
   "mimetype": "text/x-python",
   "name": "python",
   "nbconvert_exporter": "python",
   "pygments_lexer": "ipython2",
   "version": "2.7.12"
  }
 },
 "nbformat": 4,
 "nbformat_minor": 0
}
