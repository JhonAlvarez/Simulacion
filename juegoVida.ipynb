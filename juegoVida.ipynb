{
 "cells": [
  {
   "cell_type": "code",
   "execution_count": 1,
   "metadata": {
    "collapsed": false
   },
   "outputs": [
    {
     "ename": "SyntaxError",
     "evalue": "invalid syntax (<ipython-input-1-189422262c3d>, line 56)",
     "output_type": "error",
     "traceback": [
      "\u001b[0;36m  File \u001b[0;32m\"<ipython-input-1-189422262c3d>\"\u001b[0;36m, line \u001b[0;32m56\u001b[0m\n\u001b[0;31m    print \"\\033[2J\\033[1;1H\" + boardToString(f, 2)\u001b[0m\n\u001b[0m                           ^\u001b[0m\n\u001b[0;31mSyntaxError\u001b[0m\u001b[0;31m:\u001b[0m invalid syntax\n"
     ]
    }
   ],
   "source": [
    "from collections import namedtuple, defaultdict\n",
    "import time\n",
    "\n",
    "Cell = namedtuple('Cell', ['a', 'tapb'])\n",
    "\n",
    "\n",
    "def getNeighbours(cell):\n",
    "    for a in range(cell.a - 1, cell.a + 2):\n",
    "        for tapb in range(cell.tapb - 1, cell.tapb + 2):\n",
    "            if (a, tapb) != (cell.a, cell.tapb):\n",
    "                yield Cell(a, tapb)\n",
    "\n",
    "\n",
    "def getNeighbourCount(board):\n",
    "    neighbour_counts = defaultdict(int)\n",
    "    for cell in board:\n",
    "        for neighbour in getNeighbours(cell):\n",
    "            neighbour_counts[neighbour] += 1\n",
    "    return neighbour_counts\n",
    "\n",
    "\n",
    "def advanceBoard(board):\n",
    "    new_board = set()\n",
    "    for cell, count in getNeighbourCount(board).iteritems():\n",
    "        if count == 3 or (cell in board and count == 2):\n",
    "            new_board.add(cell)\n",
    "    return new_board\n",
    "\n",
    "\n",
    "def generateBoard(desc):\n",
    "    board = set()\n",
    "    for row, line in enumerate(desc.split(\"\\n\")):\n",
    "        for col, elem in enumerate(line):\n",
    "            if elem == 'X':\n",
    "                board.add(Cell(int(col), int(row)))\n",
    "    return board\n",
    "\n",
    "\n",
    "def boardToString(board, pad=0):\n",
    "    if not board:\n",
    "        return \"Finalizada\"\n",
    "    board_str = \"\"\n",
    "    xs = [a for (a, tapb) in board]\n",
    "    ys = [tapb for (a, tapb) in board]\n",
    "    for tapb in range(min(ys) - pad, max(ys) + 1 + pad):\n",
    "        for a in range(min(xs) - pad, max(xs) + 1 + pad):\n",
    "            board_str += 'X' if Cell(a, tapb) in board else '.'\n",
    "        board_str += '\\n'\n",
    "    return board_str.strip()\n",
    "\n",
    "\n",
    "if __name__ == '__main__':\n",
    "    f = generateBoard(\"......X.\\nXX......\\n.X...XXX\")\n",
    "    for _ in range(130):\n",
    "        f = advanceBoard(f)\n",
    "        print \"\\033[2J\\033[1;1H\" + boardToString(f, 2)\n",
    "        time.sleep(0.1)\n",
    "        "
   ]
  },
  {
   "cell_type": "code",
   "execution_count": null,
   "metadata": {
    "collapsed": true
   },
   "outputs": [],
   "source": []
  }
 ],
 "metadata": {
  "anaconda-cloud": {},
  "kernelspec": {
   "display_name": "Python [default]",
   "language": "python",
   "name": "python3"
  },
  "language_info": {
   "codemirror_mode": {
    "name": "ipython",
    "version": 3
   },
   "file_extension": ".py",
   "mimetype": "text/x-python",
   "name": "python",
   "nbconvert_exporter": "python",
   "pygments_lexer": "ipython3",
   "version": "3.5.2"
  }
 },
 "nbformat": 4,
 "nbformat_minor": 1
}
