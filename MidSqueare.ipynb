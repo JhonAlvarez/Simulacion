{
 "cells": [
  {
   "cell_type": "code",
   "execution_count": 1,
   "metadata": {
    "collapsed": false
   },
   "outputs": [
    {
     "ename": "SyntaxError",
     "evalue": "invalid syntax (<ipython-input-1-f043611123b8>, line 27)",
     "output_type": "error",
     "traceback": [
      "\u001b[1;36m  File \u001b[1;32m\"<ipython-input-1-f043611123b8>\"\u001b[1;36m, line \u001b[1;32m27\u001b[0m\n\u001b[1;33m    print MidSquare(\"1334\",100)\u001b[0m\n\u001b[1;37m                  ^\u001b[0m\n\u001b[1;31mSyntaxError\u001b[0m\u001b[1;31m:\u001b[0m invalid syntax\n"
     ]
    }
   ],
   "source": [
    "def MidSquare(semilla, numax=1):\n",
    "        \n",
    "    valores= []\n",
    "    newsemilla = semilla\n",
    "    for iterator in range(numax):\n",
    "                        \n",
    "        if(len(newsemilla)%2==0):\n",
    "\n",
    "            n = int(newsemilla)   \n",
    "            semilla2 = n**2\n",
    "            stringc =  str(semilla2)\n",
    "            if len(stringc)%2!=0:\n",
    "                stringc = \"0\"+ stringc\n",
    "\n",
    "\n",
    "            border = len(newsemilla)/2\n",
    "\n",
    "            semillanueva = stringc[border:len(stringc)-border]\n",
    "            output = \"0.\"+ semillanueva\n",
    "            valores.append(float(output))\n",
    "            newsemilla = semillanueva\n",
    "            print \n",
    "            \n",
    "    return valores    \n",
    "\n",
    "\n",
    "print MidSquare(\"1334\",100)"
   ]
  },
  {
   "cell_type": "code",
   "execution_count": null,
   "metadata": {
    "collapsed": true
   },
   "outputs": [],
   "source": []
  }
 ],
 "metadata": {
  "anaconda-cloud": {},
  "celltoolbar": "Raw Cell Format",
  "kernelspec": {
   "display_name": "Python [Root]",
   "language": "python",
   "name": "Python [Root]"
  },
  "language_info": {
   "codemirror_mode": {
    "name": "ipython",
    "version": 3
   },
   "file_extension": ".py",
   "mimetype": "text/x-python",
   "name": "python",
   "nbconvert_exporter": "python",
   "pygments_lexer": "ipython3",
   "version": "3.5.2"
  }
 },
 "nbformat": 4,
 "nbformat_minor": 0
}
