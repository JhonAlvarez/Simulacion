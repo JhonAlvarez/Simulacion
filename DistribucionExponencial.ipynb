{
 "cells": [
  {
   "cell_type": "code",
   "execution_count": 2,
   "metadata": {
    "collapsed": false
   },
   "outputs": [
    {
     "ename": "IndentationError",
     "evalue": "unindent does not match any outer indentation level (<ipython-input-2-c44e1514d883>, line 28)",
     "output_type": "error",
     "traceback": [
      "\u001b[1;36m  File \u001b[1;32m\"<ipython-input-2-c44e1514d883>\"\u001b[1;36m, line \u001b[1;32m28\u001b[0m\n\u001b[1;33m    def exponenete(lamda,linea)\u001b[0m\n\u001b[1;37m                               ^\u001b[0m\n\u001b[1;31mIndentationError\u001b[0m\u001b[1;31m:\u001b[0m unindent does not match any outer indentation level\n"
     ]
    }
   ],
   "source": [
    "\n",
    "import numpy as np\n",
    "import matplotlib.pyplot as plt\n",
    "import math\n",
    "from matplotlib.pylab import hist, show\n",
    "def congruencial(a,b,m,x0,n):\n",
    "    xn=0.0\n",
    "    un=0.0\n",
    "    list = []\n",
    "    for i in range(0,n):\n",
    "        xn=(a*x0 + b)%m\n",
    "        un=xn/float(m)\n",
    "        #print un\n",
    "        list.insert(i,un)\n",
    "        x0=xn\n",
    "    return list\n",
    "\n",
    "\n",
    "def inversion(n,met):\n",
    "    mod=congruencial(87,67,5713483647,11,n)\n",
    "    if met==1:\n",
    "        lamda=input('Ingrese el valor de landa: ')\n",
    "        exponenete(lamda,mod)\n",
    "    else:\n",
    "         print('Ingrese correcto') \n",
    "            \n",
    "            \n",
    "        def exponenete(lamda,linea)\n",
    "    mat=[]\n",
    "    for i in range(len(linea)):\n",
    "        inv=-1*math.log(1-linea[i])/lamda\n",
    "        mat.append(inv)\n",
    "        print 'p: ',linea[i]\n",
    "        print 'Q(p): ',inv\n",
    "        print '__________'\n",
    "    ##plt.plot(linea,mat)\n",
    "    plt.hist(mat)\n",
    "    plt.show()"
   ]
  },
  {
   "cell_type": "code",
   "execution_count": null,
   "metadata": {
    "collapsed": true
   },
   "outputs": [],
   "source": []
  },
  {
   "cell_type": "code",
   "execution_count": null,
   "metadata": {
    "collapsed": true
   },
   "outputs": [],
   "source": []
  }
 ],
 "metadata": {
  "anaconda-cloud": {},
  "kernelspec": {
   "display_name": "Python [Root]",
   "language": "python",
   "name": "Python [Root]"
  },
  "language_info": {
   "codemirror_mode": {
    "name": "ipython",
    "version": 3
   },
   "file_extension": ".py",
   "mimetype": "text/x-python",
   "name": "python",
   "nbconvert_exporter": "python",
   "pygments_lexer": "ipython3",
   "version": "3.5.2"
  }
 },
 "nbformat": 4,
 "nbformat_minor": 0
}
